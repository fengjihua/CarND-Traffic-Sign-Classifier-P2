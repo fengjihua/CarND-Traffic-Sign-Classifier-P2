{
 "cells": [
  {
   "cell_type": "markdown",
   "metadata": {
    "deletable": true,
    "editable": true
   },
   "source": [
    "# Self-Driving Car Engineer Nanodegree\n",
    "\n",
    "## Deep Learning\n",
    "\n",
    "## Project: Build a Traffic Sign Recognition Classifier\n",
    "\n",
    "In this notebook, a template is provided for you to implement your functionality in stages, which is required to successfully complete this project. If additional code is required that cannot be included in the notebook, be sure that the Python code is successfully imported and included in your submission if necessary. \n",
    "\n",
    "> **Note**: Once you have completed all of the code implementations, you need to finalize your work by exporting the iPython Notebook as an HTML document. Before exporting the notebook to html, all of the code cells need to have been run so that reviewers can see the final implementation and output. You can then export the notebook by using the menu above and navigating to  \\n\",\n",
    "    \"**File -> Download as -> HTML (.html)**. Include the finished document along with this notebook as your submission. \n",
    "\n",
    "In addition to implementing code, there is a writeup to complete. The writeup should be completed in a separate file, which can be either a markdown file or a pdf document. There is a [write up template](https://github.com/udacity/CarND-Traffic-Sign-Classifier-Project/blob/master/writeup_template.md) that can be used to guide the writing process. Completing the code template and writeup template will cover all of the [rubric points](https://review.udacity.com/#!/rubrics/481/view) for this project.\n",
    "\n",
    "The [rubric](https://review.udacity.com/#!/rubrics/481/view) contains \"Stand Out Suggestions\" for enhancing the project beyond the minimum requirements. The stand out suggestions are optional. If you decide to pursue the \"stand out suggestions\", you can include the code in this Ipython notebook and also discuss the results in the writeup file.\n",
    "\n",
    "\n",
    ">**Note:** Code and Markdown cells can be executed using the **Shift + Enter** keyboard shortcut. In addition, Markdown cells can be edited by typically double-clicking the cell to enter edit mode."
   ]
  },
  {
   "cell_type": "markdown",
   "metadata": {
    "deletable": true,
    "editable": true
   },
   "source": [
    "---\n",
    "## Step 0: Load The Data"
   ]
  },
  {
   "cell_type": "code",
   "execution_count": 1,
   "metadata": {
    "collapsed": true,
    "deletable": true,
    "editable": true
   },
   "outputs": [],
   "source": [
    "# load pickled data\n",
    "import pickle\n",
    "\n",
    "# TODO: Fill this in based on where you saved the training and testing data\n",
    "training_file = './data/train.p'\n",
    "validation_file = './data/valid.p'\n",
    "testing_file = './data/test.p'\n",
    "\n",
    "with open(training_file, mode='rb') as f:\n",
    "    train = pickle.load(f)\n",
    "with open(validation_file, mode='rb') as f:\n",
    "    valid = pickle.load(f)\n",
    "with open(testing_file, mode='rb') as f:\n",
    "    test = pickle.load(f)\n",
    "    \n",
    "X_train, y_train = train['features'], train['labels']\n",
    "X_valid, y_valid = valid['features'], valid['labels']\n",
    "X_test, y_test = test['features'], test['labels']"
   ]
  },
  {
   "cell_type": "markdown",
   "metadata": {
    "deletable": true,
    "editable": true
   },
   "source": [
    "---\n",
    "\n",
    "## Step 1: Dataset Summary & Exploration\n",
    "\n",
    "The pickled data is a dictionary with 4 key/value pairs:\n",
    "\n",
    "- `'features'` is a 4D array containing raw pixel data of the traffic sign images, (num examples, width, height, channels).\n",
    "- `'labels'` is a 1D array containing the label/class id of the traffic sign. The file `signnames.csv` contains id -> name mappings for each id.\n",
    "- `'sizes'` is a list containing tuples, (width, height) representing the original width and height the image.\n",
    "- `'coords'` is a list containing tuples, (x1, y1, x2, y2) representing coordinates of a bounding box around the sign in the image. **THESE COORDINATES ASSUME THE ORIGINAL IMAGE. THE PICKLED DATA CONTAINS RESIZED VERSIONS (32 by 32) OF THESE IMAGES**\n",
    "\n",
    "Complete the basic data summary below. Use python, numpy and/or pandas methods to calculate the data summary rather than hard coding the results. For example, the [pandas shape method](http://pandas.pydata.org/pandas-docs/stable/generated/pandas.DataFrame.shape.html) might be useful for calculating some of the summary results. "
   ]
  },
  {
   "cell_type": "markdown",
   "metadata": {
    "deletable": true,
    "editable": true
   },
   "source": [
    "### Provide a Basic Summary of the Data Set Using Python, Numpy and/or Pandas"
   ]
  },
  {
   "cell_type": "code",
   "execution_count": 2,
   "metadata": {
    "collapsed": false,
    "deletable": true,
    "editable": true
   },
   "outputs": [
    {
     "name": "stdout",
     "output_type": "stream",
     "text": [
      "Number of training examples = 34799\n",
      "Number of testing examples = 12630\n",
      "Image data shape = (32, 32, 3)\n",
      "Number of classes = 43\n"
     ]
    }
   ],
   "source": [
    "### Replace each question mark with the appropriate value. \n",
    "### Use python, pandas or numpy methods rather than hard coding the results\n",
    "\n",
    "# TODO: Number of training examples\n",
    "n_train = X_train.shape[0]\n",
    "\n",
    "# TODO: Number of validation examples\n",
    "n_validation = X_valid.shape[0]\n",
    "\n",
    "# TODO: Number of testing examples.\n",
    "n_test = X_test.shape[0]\n",
    "\n",
    "# TODO: What's the shape of an traffic sign image?\n",
    "image_shape = X_train[0].shape\n",
    "\n",
    "# TODO: How many unique classes/labels there are in the dataset.\n",
    "n_classes = len(set(y_train))\n",
    "\n",
    "print(\"Number of training examples =\", n_train)\n",
    "print(\"Number of testing examples =\", n_test)\n",
    "print(\"Image data shape =\", image_shape)\n",
    "print(\"Number of classes =\", n_classes)"
   ]
  },
  {
   "cell_type": "markdown",
   "metadata": {
    "deletable": true,
    "editable": true
   },
   "source": [
    "### Include an exploratory visualization of the dataset"
   ]
  },
  {
   "cell_type": "markdown",
   "metadata": {
    "deletable": true,
    "editable": true
   },
   "source": [
    "Visualize the German Traffic Signs Dataset using the pickled file(s). This is open ended, suggestions include: plotting traffic sign images, plotting the count of each sign, etc. \n",
    "\n",
    "The [Matplotlib](http://matplotlib.org/) [examples](http://matplotlib.org/examples/index.html) and [gallery](http://matplotlib.org/gallery.html) pages are a great resource for doing visualizations in Python.\n",
    "\n",
    "**NOTE:** It's recommended you start with something simple first. If you wish to do more, come back to it after you've completed the rest of the sections. It can be interesting to look at the distribution of classes in the training, validation and test set. Is the distribution the same? Are there more examples of some classes than others?"
   ]
  },
  {
   "cell_type": "code",
   "execution_count": 3,
   "metadata": {
    "collapsed": false,
    "deletable": true,
    "editable": true
   },
   "outputs": [
    {
     "name": "stdout",
     "output_type": "stream",
     "text": [
      "41\n"
     ]
    },
    {
     "data": {
      "image/png": "[encoded data removed]",
      "text/plain": [
       "<matplotlib.figure.Figure at 0x7fd1a06d2a58>"
      ]
     },
     "metadata": {},
     "output_type": "display_data"
    }
   ],
   "source": [
    "### Data exploration visualization code goes here.\n",
    "### Feel free to use as many code cells as needed.\n",
    "import matplotlib.pyplot as plt\n",
    "# Visualizations will be shown in the notebook.\n",
    "%matplotlib inline\n",
    "\n",
    "index = 88\n",
    "print(y_train[index])\n",
    "plt.imshow(X_train[index])\n",
    "plt.show()"
   ]
  },
  {
   "cell_type": "markdown",
   "metadata": {
    "deletable": true,
    "editable": true
   },
   "source": [
    "----\n",
    "\n",
    "## Step 2: Design and Test a Model Architecture\n",
    "\n",
    "Design and implement a deep learning model that learns to recognize traffic signs. Train and test your model on the [German Traffic Sign Dataset](http://benchmark.ini.rub.de/?section=gtsrb&subsection=dataset).\n",
    "\n",
    "The LeNet-5 implementation shown in the [classroom](https://classroom.udacity.com/nanodegrees/nd013/parts/fbf77062-5703-404e-b60c-95b78b2f3f9e/modules/6df7ae49-c61c-4bb2-a23e-6527e69209ec/lessons/601ae704-1035-4287-8b11-e2c2716217ad/concepts/d4aca031-508f-4e0b-b493-e7b706120f81) at the end of the CNN lesson is a solid starting point. You'll have to change the number of classes and possibly the preprocessing, but aside from that it's plug and play! \n",
    "\n",
    "With the LeNet-5 solution from the lecture, you should expect a validation set accuracy of about 0.89. To meet specifications, the validation set accuracy will need to be at least 0.93. It is possible to get an even higher accuracy, but 0.93 is the minimum for a successful project submission. \n",
    "\n",
    "There are various aspects to consider when thinking about this problem:\n",
    "\n",
    "- Neural network architecture (is the network over or underfitting?)\n",
    "- Play around preprocessing techniques (normalization, rgb to grayscale, etc)\n",
    "- Number of examples per label (some have more than others).\n",
    "- Generate fake data.\n",
    "\n",
    "Here is an example of a [published baseline model on this problem](http://yann.lecun.com/exdb/publis/pdf/sermanet-ijcnn-11.pdf). It's not required to be familiar with the approach used in the paper but, it's good practice to try to read papers like these."
   ]
  },
  {
   "cell_type": "markdown",
   "metadata": {
    "deletable": true,
    "editable": true
   },
   "source": [
    "### Pre-process the Data Set (normalization, grayscale, etc.)"
   ]
  },
  {
   "cell_type": "markdown",
   "metadata": {
    "deletable": true,
    "editable": true
   },
   "source": [
    "Minimally, the image data should be normalized so that the data has mean zero and equal variance. For image data, `(pixel - 128)/ 128` is a quick way to approximately normalize the data and can be used in this project. \n",
    "\n",
    "Other pre-processing steps are optional. You can try different techniques to see if it improves performance. \n",
    "\n",
    "Use the code cell (or multiple code cells, if necessary) to implement the first step of your project."
   ]
  },
  {
   "cell_type": "code",
   "execution_count": 5,
   "metadata": {
    "collapsed": false,
    "deletable": true,
    "editable": true
   },
   "outputs": [
    {
     "name": "stderr",
     "output_type": "stream",
     "text": [
      "Using TensorFlow backend.\n"
     ]
    }
   ],
   "source": [
    "### Preprocess the data here. It is required to normalize the data. Other preprocessing steps could include \n",
    "### converting to grayscale, etc.\n",
    "### Feel free to use as many code cells as needed.\n",
    "\n",
    "import numpy as np\n",
    "from keras.preprocessing.image import ImageDataGenerator"
   ]
  },
  {
   "cell_type": "code",
   "execution_count": null,
   "metadata": {
    "collapsed": false,
    "deletable": true,
    "editable": true
   },
   "outputs": [],
   "source": [
    "# 1.AUGMENT THE TRAINING DATA\n",
    "# Augmenting the training set might help improve model performance. Common data augmentation techniques include rotation, translation, zoom, flips, and/or color perturbation. These techniques can be used individually or combined.\n",
    "# https://keras.io/preprocessing/image/ \n",
    "# Datagen = ImageDataGenerator(\n",
    "#     zoom_range=[0.8, 1.2],\n",
    "#     width_shift_range=0.2,\n",
    "#     height_shift_range=0.2,\n",
    "#     horizontal_flip=False,\n",
    "#     vertical_flip = False,\n",
    "#     fill_mode='nearest')\n",
    "\n",
    "# # x_image = X_train[0:2]\n",
    "# # y_image = y_train[0:2]\n",
    "# # # print(x_image.shape, np.max(x_image[1]), np.min(x_image[1]))\n",
    "# print('Before Augment: ', X_train.shape, y_train.shape, y_train[-10:])\n",
    "# # print(len(X_train), len(y_train))\n",
    "\n",
    "# num_augment = 0\n",
    "# limit_augment = 5000\n",
    "\n",
    "# X_temp = None\n",
    "# y_temp = None\n",
    "# for x_gen, y_gen in Datagen.flow(X_train, y_train, batch_size=1):\n",
    "#     num_augment +=1\n",
    "# #     print(i, np.max(x_gen), np.min(x_gen), x_gen.shape, y_gen)\n",
    "#     if X_temp is None:\n",
    "#         X_temp = x_gen\n",
    "#         y_temp = y_gen\n",
    "#     else:\n",
    "#         X_temp = np.append(X_temp, x_gen, axis=0)\n",
    "#         y_temp = np.append(y_temp, y_gen, axis=0)\n",
    "    \n",
    "#     if num_augment%100 == 0:\n",
    "#         X_train = np.append(X_train, X_temp, axis=0)\n",
    "#         y_train = np.append(y_train, y_temp, axis=0)\n",
    "#         X_temp = None\n",
    "#         y_temp = None\n",
    "#         print('Augmenting {}/{}...'.format(num_augment,limit_augment))\n",
    "    \n",
    "#     if num_augment > limit_augment - 1:\n",
    "#         break\n",
    "        \n",
    "# print('After Augment: ', X_train.shape, y_train.shape, y_train[-10:])"
   ]
  },
  {
   "cell_type": "code",
   "execution_count": 6,
   "metadata": {
    "collapsed": false,
    "deletable": true,
    "editable": true
   },
   "outputs": [
    {
     "name": "stdout",
     "output_type": "stream",
     "text": [
      "Before Normalize:  [28 25 24]\n",
      "After Normalize:  [-0.78125   -0.8046875 -0.8125   ]\n"
     ]
    }
   ],
   "source": [
    "# 2.KFold\n",
    "\n",
    "# 3.Nomalize\n",
    "print('Before Normalize: ', X_train[0][0][0])\n",
    "X_train = np.divide(np.add(X_train, -128), 128)\n",
    "X_valid = np.divide(np.add(X_valid, -128), 128)\n",
    "X_test = np.divide(np.add(X_test, -128), 128)\n",
    "print('After Normalize: ', X_train[0][0][0])"
   ]
  },
  {
   "cell_type": "markdown",
   "metadata": {
    "deletable": true,
    "editable": true
   },
   "source": [
    "### Model Architecture"
   ]
  },
  {
   "cell_type": "code",
   "execution_count": 7,
   "metadata": {
    "collapsed": true,
    "deletable": true,
    "editable": true
   },
   "outputs": [],
   "source": [
    "### Define your architecture here.\n",
    "### Feel free to use as many code cells as needed.\n",
    "\n",
    "import tensorflow as tf\n",
    "from tensorflow.contrib.layers import flatten\n",
    "\n",
    "def LeNet(x):    \n",
    "    # Arguments used for tf.truncated_normal, randomly defines variables for the weights and biases for each layer\n",
    "    mu = 0\n",
    "    sigma = 0.1\n",
    "    keep_prob = 1.0\n",
    "    \n",
    "    # SOLUTION: Layer 1: Convolutional. Input = 32x32x3. Output = 28x28x6.\n",
    "    conv1_W = tf.Variable(tf.truncated_normal(shape=(5, 5, 3, 6), mean = mu, stddev = sigma))\n",
    "    conv1_b = tf.Variable(tf.zeros(6))\n",
    "    conv1   = tf.nn.conv2d(x, conv1_W, strides=[1, 1, 1, 1], padding='VALID', name='conv1') + conv1_b\n",
    "\n",
    "    # SOLUTION: Activation.\n",
    "    conv1 = tf.nn.relu(conv1)\n",
    "\n",
    "    # SOLUTION: Pooling. Input = 28x28x6. Output = 14x14x6.\n",
    "    conv1 = tf.nn.max_pool(conv1, ksize=[1, 2, 2, 1], strides=[1, 2, 2, 1], padding='VALID')\n",
    "\n",
    "    # SOLUTION: Layer 2: Convolutional. Output = 10x10x16.\n",
    "    conv2_W = tf.Variable(tf.truncated_normal(shape=(5, 5, 6, 16), mean = mu, stddev = sigma))\n",
    "    conv2_b = tf.Variable(tf.zeros(16))\n",
    "    conv2   = tf.nn.conv2d(conv1, conv2_W, strides=[1, 1, 1, 1], padding='VALID', name='conv2') + conv2_b\n",
    "    \n",
    "    # SOLUTION: Activation.\n",
    "    conv2 = tf.nn.relu(conv2)\n",
    "\n",
    "    # SOLUTION: Pooling. Input = 10x10x16. Output = 5x5x16.\n",
    "    conv2 = tf.nn.max_pool(conv2, ksize=[1, 2, 2, 1], strides=[1, 2, 2, 1], padding='VALID')\n",
    "\n",
    "    # SOLUTION: Flatten. Input = 5x5x16. Output = 400.\n",
    "    fc0   = flatten(conv2)\n",
    "    \n",
    "    # SOLUTION: Layer 3: Fully Connected. Input = 400. Output = 120.\n",
    "    fc1_W = tf.Variable(tf.truncated_normal(shape=(400, 120), mean = mu, stddev = sigma))\n",
    "    fc1_b = tf.Variable(tf.zeros(120))\n",
    "    fc1   = tf.matmul(fc0, fc1_W) + fc1_b\n",
    "    \n",
    "    # SOLUTION: Activation.\n",
    "    fc1    = tf.nn.relu(fc1)\n",
    "    fc1 = tf.nn.dropout(fc1, keep_prob)\n",
    "\n",
    "    # SOLUTION: Layer 4: Fully Connected. Input = 120. Output = 84.\n",
    "    fc2_W  = tf.Variable(tf.truncated_normal(shape=(120, 84), mean = mu, stddev = sigma))\n",
    "    fc2_b  = tf.Variable(tf.zeros(84))\n",
    "    fc2    = tf.matmul(fc1, fc2_W) + fc2_b\n",
    "    \n",
    "    # SOLUTION: Activation.\n",
    "    fc2    = tf.nn.relu(fc2)\n",
    "    fc2 = tf.nn.dropout(fc2, keep_prob)\n",
    "\n",
    "    # SOLUTION: Layer 5: Fully Connected. Input = 84. Output = n_classes(43).\n",
    "    fc3_W  = tf.Variable(tf.truncated_normal(shape=(84, n_classes), mean = mu, stddev = sigma))\n",
    "    fc3_b  = tf.Variable(tf.zeros(n_classes))\n",
    "    logits = tf.matmul(fc2, fc3_W) + fc3_b\n",
    "    \n",
    "    # L2 Regularization\n",
    "    regularizers = (tf.nn.l2_loss(fc1_W) + tf.nn.l2_loss(fc1_b) + tf.nn.l2_loss(fc2_W) + tf.nn.l2_loss(fc2_b) + tf.nn.l2_loss(fc3_W) + tf.nn.l2_loss(fc3_b))\n",
    "    \n",
    "    return logits, regularizers"
   ]
  },
  {
   "cell_type": "markdown",
   "metadata": {
    "deletable": true,
    "editable": true
   },
   "source": [
    "### Train, Validate and Test the Model"
   ]
  },
  {
   "cell_type": "markdown",
   "metadata": {
    "deletable": true,
    "editable": true
   },
   "source": [
    "A validation set can be used to assess how well the model is performing. A low accuracy on the training and validation\n",
    "sets imply underfitting. A high accuracy on the training set but low accuracy on the validation set implies overfitting."
   ]
  },
  {
   "cell_type": "code",
   "execution_count": 8,
   "metadata": {
    "collapsed": true,
    "deletable": true,
    "editable": true
   },
   "outputs": [],
   "source": [
    "### Train your model here.\n",
    "### Calculate and report the accuracy on the training and validation set.\n",
    "### Once a final model architecture is selected, \n",
    "### the accuracy on the test set should be calculated and reported as well.\n",
    "### Feel free to use as many code cells as needed.\n",
    "\n",
    "# print(X_train[0][0][0])\n",
    "\n",
    "# Remove previous weights, bias, inputs, etc..\n",
    "tf.reset_default_graph()\n",
    "\n",
    "# Inputs\n",
    "x = tf.placeholder(tf.float32, (None, 32, 32, 3), name='x') # (n,32,32,3)\n",
    "y = tf.placeholder(tf.int32, (None), name='y') # (n)\n",
    "one_hot_y = tf.one_hot(y, n_classes) # (n,43)\n",
    "\n",
    "# Hyperparameters\n",
    "epochs = 30\n",
    "batch_size = 64\n",
    "learning_rate = 0.001\n",
    "factor = 5e-4 # Regularization factor\n",
    "\n",
    "# Train Operation\n",
    "logits, regularizers = LeNet(x) # (n,43)\n",
    "cross_entropy = tf.nn.softmax_cross_entropy_with_logits(labels=one_hot_y, logits=logits) # (n,43)\n",
    "loss_operation = tf.reduce_mean(cross_entropy)\n",
    "# L2 regularization for the fully connected parameters. Add regularization to loss term\n",
    "# loss_operation += factor * regularizers\n",
    "\n",
    "optimizer = tf.train.AdamOptimizer(learning_rate = learning_rate)\n",
    "training_operation = optimizer.minimize(loss_operation)"
   ]
  },
  {
   "cell_type": "code",
   "execution_count": 9,
   "metadata": {
    "collapsed": true,
    "deletable": true,
    "editable": true
   },
   "outputs": [],
   "source": [
    "# Model Evaluation\n",
    "correct_prediction = tf.equal(tf.argmax(logits, 1), tf.argmax(one_hot_y, 1)) # (n,1)\n",
    "accuracy_operation = tf.reduce_mean(tf.cast(correct_prediction, tf.float32)) # (n,1) -> a number\n",
    "\n",
    "def evaluate(X_data, y_data):\n",
    "    num_examples = len(X_data)\n",
    "    total_accuracy = 0\n",
    "    total_loss = 0\n",
    "    sess = tf.get_default_session()\n",
    "    \n",
    "    for offset in range(0, num_examples, batch_size):\n",
    "        batch_x, batch_y = X_data[offset:offset+batch_size], y_data[offset:offset+batch_size]\n",
    "        \n",
    "        accuracy = sess.run(accuracy_operation, feed_dict = {x: batch_x, y: batch_y}) # a number\n",
    "        total_accuracy += (accuracy * len(batch_x))\n",
    "        \n",
    "        loss = sess.run(loss_operation, feed_dict = {x: batch_x, y: batch_y})\n",
    "        total_loss += (loss * len(batch_x))\n",
    "        \n",
    "    return total_accuracy / num_examples, total_loss / num_examples"
   ]
  },
  {
   "cell_type": "code",
   "execution_count": 10,
   "metadata": {
    "collapsed": false,
    "deletable": true,
    "editable": true
   },
   "outputs": [
    {
     "name": "stdout",
     "output_type": "stream",
     "text": [
      "Training...\n",
      "\n",
      "EPOCH 1/30, Valid Loss = 1.350, Validation Accuracy = 0.575...\n",
      "EPOCH 1/30, Valid Loss = 0.793, Validation Accuracy = 0.774...\n",
      "EPOCH 2/30, Valid Loss = 0.637, Validation Accuracy = 0.822...\n",
      "EPOCH 2/30, Valid Loss = 0.520, Validation Accuracy = 0.859...\n",
      "EPOCH 2/30, Valid Loss = 0.551, Validation Accuracy = 0.858...\n",
      "EPOCH 3/30, Valid Loss = 0.513, Validation Accuracy = 0.881...\n",
      "EPOCH 3/30, Valid Loss = 0.427, Validation Accuracy = 0.888...\n",
      "EPOCH 3/30, Valid Loss = 0.473, Validation Accuracy = 0.891...\n",
      "EPOCH 4/30, Valid Loss = 0.437, Validation Accuracy = 0.896...\n",
      "EPOCH 4/30, Valid Loss = 0.470, Validation Accuracy = 0.888...\n",
      "EPOCH 5/30, Valid Loss = 0.443, Validation Accuracy = 0.895...\n",
      "EPOCH 5/30, Valid Loss = 0.385, Validation Accuracy = 0.912...\n",
      "EPOCH 5/30, Valid Loss = 0.376, Validation Accuracy = 0.920...\n",
      "EPOCH 6/30, Valid Loss = 0.381, Validation Accuracy = 0.920...\n",
      "EPOCH 6/30, Valid Loss = 0.488, Validation Accuracy = 0.891...\n",
      "EPOCH 6/30, Valid Loss = 0.425, Validation Accuracy = 0.903...\n",
      "EPOCH 7/30, Valid Loss = 0.447, Validation Accuracy = 0.913...\n",
      "EPOCH 7/30, Valid Loss = 0.491, Validation Accuracy = 0.909...\n",
      "EPOCH 7/30, Valid Loss = 0.392, Validation Accuracy = 0.912...\n",
      "EPOCH 8/30, Valid Loss = 0.402, Validation Accuracy = 0.912...\n",
      "EPOCH 8/30, Valid Loss = 0.402, Validation Accuracy = 0.924...\n",
      "EPOCH 9/30, Valid Loss = 0.370, Validation Accuracy = 0.920...\n",
      "EPOCH 9/30, Valid Loss = 0.469, Validation Accuracy = 0.910...\n",
      "EPOCH 9/30, Valid Loss = 0.459, Validation Accuracy = 0.913...\n",
      "EPOCH 10/30, Valid Loss = 0.446, Validation Accuracy = 0.921...\n",
      "EPOCH 10/30, Valid Loss = 0.441, Validation Accuracy = 0.916...\n",
      "EPOCH 10/30, Valid Loss = 0.415, Validation Accuracy = 0.926...\n",
      "EPOCH 11/30, Valid Loss = 0.433, Validation Accuracy = 0.922...\n",
      "EPOCH 11/30, Valid Loss = 0.466, Validation Accuracy = 0.916...\n",
      "EPOCH 12/30, Valid Loss = 0.421, Validation Accuracy = 0.928...\n",
      "EPOCH 12/30, Valid Loss = 0.413, Validation Accuracy = 0.934...\n",
      "EPOCH 12/30, Valid Loss = 0.549, Validation Accuracy = 0.916...\n",
      "EPOCH 13/30, Valid Loss = 0.393, Validation Accuracy = 0.926...\n",
      "EPOCH 13/30, Valid Loss = 0.389, Validation Accuracy = 0.933...\n",
      "EPOCH 13/30, Valid Loss = 0.419, Validation Accuracy = 0.929...\n",
      "EPOCH 14/30, Valid Loss = 0.404, Validation Accuracy = 0.932...\n",
      "EPOCH 14/30, Valid Loss = 0.425, Validation Accuracy = 0.925...\n",
      "EPOCH 14/30, Valid Loss = 0.496, Validation Accuracy = 0.920...\n",
      "EPOCH 15/30, Valid Loss = 0.422, Validation Accuracy = 0.929...\n",
      "EPOCH 15/30, Valid Loss = 0.400, Validation Accuracy = 0.933...\n",
      "EPOCH 16/30, Valid Loss = 0.387, Validation Accuracy = 0.942...\n",
      "EPOCH 16/30, Valid Loss = 0.400, Validation Accuracy = 0.935...\n",
      "EPOCH 16/30, Valid Loss = 0.517, Validation Accuracy = 0.917...\n",
      "EPOCH 17/30, Valid Loss = 0.350, Validation Accuracy = 0.935...\n",
      "EPOCH 17/30, Valid Loss = 0.436, Validation Accuracy = 0.933...\n",
      "EPOCH 17/30, Valid Loss = 0.458, Validation Accuracy = 0.921...\n",
      "EPOCH 18/30, Valid Loss = 0.560, Validation Accuracy = 0.925...\n",
      "EPOCH 18/30, Valid Loss = 0.445, Validation Accuracy = 0.931...\n",
      "EPOCH 19/30, Valid Loss = 0.549, Validation Accuracy = 0.924...\n",
      "EPOCH 19/30, Valid Loss = 0.408, Validation Accuracy = 0.938...\n",
      "EPOCH 19/30, Valid Loss = 0.440, Validation Accuracy = 0.930...\n",
      "EPOCH 20/30, Valid Loss = 0.422, Validation Accuracy = 0.938...\n",
      "EPOCH 20/30, Valid Loss = 0.469, Validation Accuracy = 0.928...\n",
      "EPOCH 20/30, Valid Loss = 0.800, Validation Accuracy = 0.888...\n",
      "EPOCH 21/30, Valid Loss = 0.444, Validation Accuracy = 0.932...\n",
      "EPOCH 21/30, Valid Loss = 0.440, Validation Accuracy = 0.934...\n",
      "EPOCH 21/30, Valid Loss = 0.508, Validation Accuracy = 0.930...\n",
      "EPOCH 22/30, Valid Loss = 0.484, Validation Accuracy = 0.937...\n",
      "EPOCH 22/30, Valid Loss = 0.427, Validation Accuracy = 0.944...\n",
      "EPOCH 23/30, Valid Loss = 0.520, Validation Accuracy = 0.923...\n",
      "EPOCH 23/30, Valid Loss = 0.470, Validation Accuracy = 0.929...\n",
      "EPOCH 23/30, Valid Loss = 0.433, Validation Accuracy = 0.941...\n",
      "EPOCH 24/30, Valid Loss = 0.461, Validation Accuracy = 0.927...\n",
      "EPOCH 24/30, Valid Loss = 0.454, Validation Accuracy = 0.935...\n",
      "EPOCH 24/30, Valid Loss = 0.634, Validation Accuracy = 0.919...\n",
      "EPOCH 25/30, Valid Loss = 0.411, Validation Accuracy = 0.938...\n",
      "EPOCH 25/30, Valid Loss = 0.356, Validation Accuracy = 0.949...\n",
      "EPOCH 25/30, Valid Loss = 0.385, Validation Accuracy = 0.944...\n",
      "EPOCH 26/30, Valid Loss = 0.394, Validation Accuracy = 0.943...\n",
      "EPOCH 26/30, Valid Loss = 0.506, Validation Accuracy = 0.943...\n",
      "EPOCH 27/30, Valid Loss = 0.473, Validation Accuracy = 0.934...\n",
      "EPOCH 27/30, Valid Loss = 0.393, Validation Accuracy = 0.942...\n",
      "EPOCH 27/30, Valid Loss = 0.637, Validation Accuracy = 0.929...\n",
      "EPOCH 28/30, Valid Loss = 0.567, Validation Accuracy = 0.932...\n",
      "EPOCH 28/30, Valid Loss = 0.609, Validation Accuracy = 0.929...\n",
      "EPOCH 28/30, Valid Loss = 0.491, Validation Accuracy = 0.931...\n",
      "EPOCH 29/30, Valid Loss = 0.520, Validation Accuracy = 0.927...\n",
      "EPOCH 29/30, Valid Loss = 0.566, Validation Accuracy = 0.935...\n",
      "EPOCH 30/30, Valid Loss = 0.445, Validation Accuracy = 0.944...\n",
      "EPOCH 30/30, Valid Loss = 0.580, Validation Accuracy = 0.932...\n",
      "EPOCH 30/30, Valid Loss = 0.564, Validation Accuracy = 0.925...\n",
      "Model saved\n"
     ]
    }
   ],
   "source": [
    "from sklearn.utils import shuffle\n",
    "\n",
    "# Train the model\n",
    "print_number = 0\n",
    "print_every_number = 200\n",
    "\n",
    "train_loss = []\n",
    "train_accs = []\n",
    "valid_loss = []\n",
    "valid_accs = []\n",
    "\n",
    "saver = tf.train.Saver()\n",
    "with tf.Session() as sess:\n",
    "    sess.run(tf.global_variables_initializer())\n",
    "    num_examples = len(X_train)\n",
    "    \n",
    "    print(\"Training...\")\n",
    "    print()\n",
    "    for i in range(epochs):\n",
    "        X_train, y_train = shuffle(X_train, y_train)\n",
    "        for offset in range(0, num_examples, batch_size):\n",
    "            print_number += 1\n",
    "            end = offset + batch_size\n",
    "            batch_x, batch_y = X_train[offset:end], y_train[offset:end]\n",
    "            sess.run(training_operation, feed_dict={x: batch_x, y: batch_y})\n",
    "            \n",
    "            if print_number % print_every_number == 0:\n",
    "                accuracy, loss = evaluate(X_valid, y_valid)\n",
    "                print(\"EPOCH {}/{}, Valid Loss = {:.3f}, Validation Accuracy = {:.3f}...\"\n",
    "                      .format(i+1, epochs, loss, accuracy))\n",
    "                valid_loss.append(loss)\n",
    "                valid_accs.append(accuracy)\n",
    "                \n",
    "                accuracy, loss = evaluate(X_train, y_train)\n",
    "                train_loss.append(loss)\n",
    "                train_accs.append(accuracy)\n",
    "#                 print(\"Validation Accuracy = {:.3f}\".format(validation_accuracy))\n",
    "#                 print()\n",
    "        \n",
    "    saver.save(sess, './lenet')\n",
    "    print(\"Model saved\")"
   ]
  },
  {
   "cell_type": "code",
   "execution_count": 11,
   "metadata": {
    "collapsed": false,
    "deletable": true,
    "editable": true
   },
   "outputs": [
    {
     "data": {
      "image/png": "[encoded data removed]",
      "text/plain": [
       "<matplotlib.figure.Figure at 0x7fd1383b8f98>"
      ]
     },
     "metadata": {},
     "output_type": "display_data"
    }
   ],
   "source": [
    "# Plot classification accuracy on both training and validation set for better visualization.\n",
    "fig = plt.figure()\n",
    "fig.add_subplot(121)\n",
    "plt.plot(train_accs, linewidth=1)\n",
    "plt.plot(valid_accs, linewidth=1)\n",
    "plt.legend([\"training accuracy\", \"validation accuracy\"], loc=4)\n",
    "plt.grid(True)\n",
    "\n",
    "fig.add_subplot(122)\n",
    "plt.plot(train_loss, linewidth=1)\n",
    "plt.plot(valid_loss, linewidth=1)\n",
    "plt.legend([\"training loss\", \"validation loss\"], loc=1)\n",
    "plt.grid(True)\n",
    "plt.show()"
   ]
  },
  {
   "cell_type": "code",
   "execution_count": 12,
   "metadata": {
    "collapsed": false,
    "deletable": true,
    "editable": true,
    "scrolled": true
   },
   "outputs": [
    {
     "name": "stdout",
     "output_type": "stream",
     "text": [
      "Test Loss = 0.744 ,Test Accuracy = 0.931\n"
     ]
    }
   ],
   "source": [
    "# Test the model\n",
    "with tf.Session() as sess:\n",
    "    saver.restore(sess, tf.train.latest_checkpoint('.'))\n",
    "\n",
    "    test_accuracy, test_loss = evaluate(X_test, y_test)\n",
    "    print(\"Test Loss = {:.3f} ,Test Accuracy = {:.3f}\".format(test_loss, test_accuracy))"
   ]
  },
  {
   "cell_type": "markdown",
   "metadata": {
    "deletable": true,
    "editable": true
   },
   "source": [
    "---\n",
    "\n",
    "## Step 3: Test a Model on New Images\n",
    "\n",
    "To give yourself more insight into how your model is working, download at least five pictures of German traffic signs from the web and use your model to predict the traffic sign type.\n",
    "\n",
    "You may find `signnames.csv` useful as it contains mappings from the class id (integer) to the actual sign name."
   ]
  },
  {
   "cell_type": "markdown",
   "metadata": {
    "deletable": true,
    "editable": true
   },
   "source": [
    "### Load and Output the Images"
   ]
  },
  {
   "cell_type": "code",
   "execution_count": 13,
   "metadata": {
    "collapsed": false,
    "deletable": true,
    "editable": true
   },
   "outputs": [
    {
     "name": "stdout",
     "output_type": "stream",
     "text": [
      "(5, 32, 32, 3)\n"
     ]
    },
    {
     "data": {
      "text/plain": [
       "<matplotlib.image.AxesImage at 0x7fd12a1f90b8>"
      ]
     },
     "execution_count": 13,
     "metadata": {},
     "output_type": "execute_result"
    },
    {
     "data": {
      "image/png": "[encoded data removed]",
      "text/plain": [
       "<matplotlib.figure.Figure at 0x7fd12b0fae48>"
      ]
     },
     "metadata": {},
     "output_type": "display_data"
    }
   ],
   "source": [
    "### Load the images and plot them here.\n",
    "### Feel free to use as many code cells as needed.\n",
    "import matplotlib.pyplot as plt  \n",
    "import matplotlib.image as mpimg\n",
    "from PIL import Image\n",
    "import numpy as np \n",
    "\n",
    "image_samples = list()\n",
    "for i in range(1,6):\n",
    "    image = Image.open('./data/sample/{}.jpg'.format(i))\n",
    "    image_resize = image.resize((32,32))\n",
    "\n",
    "    image_final = np.array(image_resize)\n",
    "#     print(image_final.shape)\n",
    "#     print(type(image), type(image_final))\n",
    "    image_samples.append(image_final)\n",
    "\n",
    "image_samples = np.array(image_samples)\n",
    "print(image_samples.shape)\n",
    "plt.imshow(image_samples[3])"
   ]
  },
  {
   "cell_type": "markdown",
   "metadata": {
    "deletable": true,
    "editable": true
   },
   "source": [
    "### Predict the Sign Type for Each Image"
   ]
  },
  {
   "cell_type": "code",
   "execution_count": 14,
   "metadata": {
    "collapsed": false,
    "deletable": true,
    "editable": true
   },
   "outputs": [
    {
     "name": "stdout",
     "output_type": "stream",
     "text": [
      "Before Normalize:  [255 255 255]\n",
      "After Normalize:  [ 0.9921875  0.9921875  0.9921875]\n"
     ]
    }
   ],
   "source": [
    "### Run the predictions here and use the model to output the prediction for each image.\n",
    "### Make sure to pre-process the images with the same pre-processing pipeline used earlier.\n",
    "### Feel free to use as many code cells as needed.\n",
    "\n",
    "# Normalize the sample images\n",
    "print('Before Normalize: ', image_samples[0][0][0])\n",
    "image_samples = np.divide(np.add(image_samples, -128), 128)\n",
    "print('After Normalize: ', image_samples[0][0][0])"
   ]
  },
  {
   "cell_type": "code",
   "execution_count": 16,
   "metadata": {
    "collapsed": false,
    "deletable": true,
    "editable": true
   },
   "outputs": [
    {
     "name": "stdout",
     "output_type": "stream",
     "text": [
      "Predictions:  [13 17 33  2 37]\n"
     ]
    }
   ],
   "source": [
    "# Run the model to predict\n",
    "prediction = tf.argmax(logits,1) # (n,43) -> (n,1)\n",
    "\n",
    "preds = []\n",
    "with tf.Session() as sess:\n",
    "    saver.restore(sess, tf.train.latest_checkpoint('.'))\n",
    "    sess = tf.get_default_session()\n",
    "    preds = sess.run(prediction, feed_dict={x: image_samples})\n",
    "    print('Predictions: ',preds)"
   ]
  },
  {
   "cell_type": "markdown",
   "metadata": {
    "deletable": true,
    "editable": true
   },
   "source": [
    "### Analyze Performance"
   ]
  },
  {
   "cell_type": "code",
   "execution_count": 17,
   "metadata": {
    "collapsed": false,
    "deletable": true,
    "editable": true
   },
   "outputs": [
    {
     "name": "stdout",
     "output_type": "stream",
     "text": [
      "Accuracy of sample images:  0.8\n"
     ]
    }
   ],
   "source": [
    "### Calculate the accuracy for these 5 new images. \n",
    "### For example, if the model predicted 1 out of 5 signs correctly, it's 20% accurate on these new images.\n",
    "trues = [13,17,33,3,37]\n",
    "print('Accuracy of sample images: ',np.mean(preds == trues))"
   ]
  },
  {
   "cell_type": "markdown",
   "metadata": {
    "deletable": true,
    "editable": true
   },
   "source": [
    "### Output Top 5 Softmax Probabilities For Each Image Found on the Web"
   ]
  },
  {
   "cell_type": "markdown",
   "metadata": {
    "deletable": true,
    "editable": true
   },
   "source": [
    "For each of the new images, print out the model's softmax probabilities to show the **certainty** of the model's predictions (limit the output to the top 5 probabilities for each image). [`tf.nn.top_k`](https://www.tensorflow.org/versions/r0.12/api_docs/python/nn.html#top_k) could prove helpful here. \n",
    "\n",
    "The example below demonstrates how tf.nn.top_k can be used to find the top k predictions for each image.\n",
    "\n",
    "`tf.nn.top_k` will return the values and indices (class ids) of the top k predictions. So if k=3, for each sign, it'll return the 3 largest probabilities (out of a possible 43) and the correspoding class ids.\n",
    "\n",
    "Take this numpy array as an example. The values in the array represent predictions. The array contains softmax probabilities for five candidate images with six possible classes. `tf.nn.top_k` is used to choose the three classes with the highest probability:\n",
    "\n",
    "```\n",
    "# (5, 6) array\n",
    "a = np.array([[ 0.24879643,  0.07032244,  0.12641572,  0.34763842,  0.07893497,\n",
    "         0.12789202],\n",
    "       [ 0.28086119,  0.27569815,  0.08594638,  0.0178669 ,  0.18063401,\n",
    "         0.15899337],\n",
    "       [ 0.26076848,  0.23664738,  0.08020603,  0.07001922,  0.1134371 ,\n",
    "         0.23892179],\n",
    "       [ 0.11943333,  0.29198961,  0.02605103,  0.26234032,  0.1351348 ,\n",
    "         0.16505091],\n",
    "       [ 0.09561176,  0.34396535,  0.0643941 ,  0.16240774,  0.24206137,\n",
    "         0.09155967]])\n",
    "```\n",
    "\n",
    "Running it through `sess.run(tf.nn.top_k(tf.constant(a), k=3))` produces:\n",
    "\n",
    "```\n",
    "TopKV2(values=array([[ 0.34763842,  0.24879643,  0.12789202],\n",
    "       [ 0.28086119,  0.27569815,  0.18063401],\n",
    "       [ 0.26076848,  0.23892179,  0.23664738],\n",
    "       [ 0.29198961,  0.26234032,  0.16505091],\n",
    "       [ 0.34396535,  0.24206137,  0.16240774]]), indices=array([[3, 0, 5],\n",
    "       [0, 1, 4],\n",
    "       [0, 5, 1],\n",
    "       [1, 3, 5],\n",
    "       [1, 4, 3]], dtype=int32))\n",
    "```\n",
    "\n",
    "Looking just at the first row we get `[ 0.34763842,  0.24879643,  0.12789202]`, you can confirm these are the 3 largest probabilities in `a`. You'll also notice `[3, 0, 5]` are the corresponding indices."
   ]
  },
  {
   "cell_type": "code",
   "execution_count": 18,
   "metadata": {
    "collapsed": false,
    "deletable": true,
    "editable": true,
    "scrolled": false
   },
   "outputs": [
    {
     "name": "stdout",
     "output_type": "stream",
     "text": [
      "Softmax:  TopKV2(values=array([[  1.00000000e+00,   0.00000000e+00,   0.00000000e+00,\n",
      "          0.00000000e+00,   0.00000000e+00],\n",
      "       [  1.00000000e+00,   2.93329257e-16,   3.75463742e-20,\n",
      "          6.92608279e-24,   1.16239574e-28],\n",
      "       [  9.83655810e-01,   1.55635830e-02,   7.70479324e-04,\n",
      "          9.91174420e-06,   1.30025484e-07],\n",
      "       [  9.99386787e-01,   6.13152108e-04,   2.19057594e-09,\n",
      "          1.69248141e-16,   1.40955257e-18],\n",
      "       [  1.00000000e+00,   2.90081798e-19,   1.22859501e-23,\n",
      "          2.89392341e-25,   1.05718008e-26]], dtype=float32), indices=array([[13,  0,  1,  2,  3],\n",
      "       [17, 26, 22, 13, 15],\n",
      "       [33, 40, 35, 34,  7],\n",
      "       [ 2,  3,  5, 31,  1],\n",
      "       [37, 40, 35, 39, 38]], dtype=int32))\n"
     ]
    }
   ],
   "source": [
    "### Print out the top five softmax probabilities for the predictions on the German traffic sign images found on the web. \n",
    "### Feel free to use as many code cells as needed.\n",
    "\n",
    "softmax = tf.nn.softmax(logits)\n",
    "softmax_all = []\n",
    "softmax_top5 = []\n",
    "with tf.Session() as sess:\n",
    "    saver.restore(sess, tf.train.latest_checkpoint('.'))\n",
    "    sess = tf.get_default_session()\n",
    "    softmax_all = sess.run(softmax, feed_dict={x: image_samples})\n",
    "    softmax_top5 = sess.run(tf.nn.top_k(tf.constant(softmax_all), k=5))\n",
    "    print('Softmax: ',softmax_top5)"
   ]
  },
  {
   "cell_type": "markdown",
   "metadata": {
    "deletable": true,
    "editable": true
   },
   "source": [
    "### Project Writeup\n",
    "\n",
    "Once you have completed the code implementation, document your results in a project writeup using this [template](https://github.com/udacity/CarND-Traffic-Sign-Classifier-Project/blob/master/writeup_template.md) as a guide. The writeup can be in a markdown or pdf file. "
   ]
  },
  {
   "cell_type": "markdown",
   "metadata": {
    "deletable": true,
    "editable": true
   },
   "source": [
    "> **Note**: Once you have completed all of the code implementations and successfully answered each question above, you may finalize your work by exporting the iPython Notebook as an HTML document. You can do this by using the menu above and navigating to  \\n\",\n",
    "    \"**File -> Download as -> HTML (.html)**. Include the finished document along with this notebook as your submission."
   ]
  },
  {
   "cell_type": "markdown",
   "metadata": {
    "deletable": true,
    "editable": true
   },
   "source": [
    "---\n",
    "\n",
    "## Step 4 (Optional): Visualize the Neural Network's State with Test Images\n",
    "\n",
    " This Section is not required to complete but acts as an additional excersise for understaning the output of a neural network's weights. While neural networks can be a great learning device they are often referred to as a black box. We can understand what the weights of a neural network look like better by plotting their feature maps. After successfully training your neural network you can see what it's feature maps look like by plotting the output of the network's weight layers in response to a test stimuli image. From these plotted feature maps, it's possible to see what characteristics of an image the network finds interesting. For a sign, maybe the inner network feature maps react with high activation to the sign's boundary outline or to the contrast in the sign's painted symbol.\n",
    "\n",
    " Provided for you below is the function code that allows you to get the visualization output of any tensorflow weight layer you want. The inputs to the function should be a stimuli image, one used during training or a new one you provided, and then the tensorflow variable name that represents the layer's state during the training process, for instance if you wanted to see what the [LeNet lab's](https://classroom.udacity.com/nanodegrees/nd013/parts/fbf77062-5703-404e-b60c-95b78b2f3f9e/modules/6df7ae49-c61c-4bb2-a23e-6527e69209ec/lessons/601ae704-1035-4287-8b11-e2c2716217ad/concepts/d4aca031-508f-4e0b-b493-e7b706120f81) feature maps looked like for it's second convolutional layer you could enter conv2 as the tf_activation variable.\n",
    "\n",
    "For an example of what feature map outputs look like, check out NVIDIA's results in their paper [End-to-End Deep Learning for Self-Driving Cars](https://devblogs.nvidia.com/parallelforall/deep-learning-self-driving-cars/) in the section Visualization of internal CNN State. NVIDIA was able to show that their network's inner weights had high activations to road boundary lines by comparing feature maps from an image with a clear path to one without. Try experimenting with a similar test to show that your trained network's weights are looking for interesting features, whether it's looking at differences in feature maps from images with or without a sign, or even what feature maps look like in a trained network vs a completely untrained one on the same sign image.\n",
    "\n",
    "<figure>\n",
    " <img src=\"visualize_cnn.png\" width=\"380\" alt=\"Combined Image\" />\n",
    " <figcaption>\n",
    " <p></p> \n",
    " <p style=\"text-align: center;\"> Your output should look something like this (above)</p> \n",
    " </figcaption>\n",
    "</figure>\n",
    " <p></p> \n"
   ]
  },
  {
   "cell_type": "code",
   "execution_count": 19,
   "metadata": {
    "collapsed": true,
    "deletable": true,
    "editable": true
   },
   "outputs": [],
   "source": [
    "### Visualize your network's feature maps here.\n",
    "### Feel free to use as many code cells as needed.\n",
    "\n",
    "# image_input: the test image being fed into the network to produce the feature maps\n",
    "# tf_activation: should be a tf variable name used during your training procedure that represents the calculated state of a specific weight layer\n",
    "# activation_min/max: can be used to view the activation contrast in more detail, by default matplot sets min and max to the actual min and max values of the output\n",
    "# plt_num: used to plot out multiple different weight feature map sets on the same block, just extend the plt number for each new feature map entry\n",
    "\n",
    "def outputFeatureMap(image_input, tf_activation, activation_min=-1, activation_max=-1 ,plt_num=1):\n",
    "    # Here make sure to preprocess your image_input in a way your network expects\n",
    "    # with size, normalization, ect if needed\n",
    "    # image_input =\n",
    "    # Note: x should be the same name as your network's tensorflow data placeholder variable\n",
    "    # If you get an error tf_activation is not defined it may be having trouble accessing the variable from inside a function\n",
    "    activation = tf_activation.eval(session=sess,feed_dict={x : image_input})\n",
    "    featuremaps = activation.shape[3]\n",
    "    plt.figure(plt_num, figsize=(15,15))\n",
    "    for featuremap in range(featuremaps):\n",
    "        plt.subplot(6,8, featuremap+1) # sets the number of feature maps to show on each row and column\n",
    "        plt.title('FeatureMap ' + str(featuremap)) # displays the feature map number\n",
    "        if activation_min != -1 & activation_max != -1:\n",
    "            plt.imshow(activation[0,:,:, featuremap], interpolation=\"nearest\", vmin =activation_min, vmax=activation_max, cmap=\"gray\")\n",
    "        elif activation_max != -1:\n",
    "            plt.imshow(activation[0,:,:, featuremap], interpolation=\"nearest\", vmax=activation_max, cmap=\"gray\")\n",
    "        elif activation_min !=-1:\n",
    "            plt.imshow(activation[0,:,:, featuremap], interpolation=\"nearest\", vmin=activation_min, cmap=\"gray\")\n",
    "        else:\n",
    "            plt.imshow(activation[0,:,:, featuremap], interpolation=\"nearest\", cmap=\"gray\")"
   ]
  },
  {
   "cell_type": "code",
   "execution_count": 20,
   "metadata": {
    "collapsed": false,
    "deletable": true,
    "editable": true
   },
   "outputs": [
    {
     "name": "stdout",
     "output_type": "stream",
     "text": [
      "(32, 32, 3)\n"
     ]
    },
    {
     "data": {
      "image/png": "[encoded data removed]",
      "text/plain": [
       "<matplotlib.figure.Figure at 0x7fd12a1abb38>"
      ]
     },
     "metadata": {},
     "output_type": "display_data"
    }
   ],
   "source": [
    "image_input = image_samples[2]\n",
    "# Plot what we are passing to the network\n",
    "plt.figure()\n",
    "plt.imshow(image_input)\n",
    "print(image_input.shape)"
   ]
  },
  {
   "cell_type": "code",
   "execution_count": 21,
   "metadata": {
    "collapsed": false,
    "deletable": true,
    "editable": true
   },
   "outputs": [
    {
     "data": {
      "image/png": "[encoded data removed]",
      "text/plain": [
       "<matplotlib.figure.Figure at 0x7fd12b02f6a0>"
      ]
     },
     "metadata": {},
     "output_type": "display_data"
    }
   ],
   "source": [
    "with tf.Session() as sess:\n",
    "    saver.restore(sess, tf.train.latest_checkpoint('.'))\n",
    "\n",
    "    image_input = image_input.reshape(1,32,32,3)\n",
    "    conv_layer_1_visual = sess.graph.get_tensor_by_name('conv1:0')\n",
    "    outputFeatureMap(image_input,conv_layer_1_visual)\n",
    "    \n",
    "    conv_layer_2_visual = sess.graph.get_tensor_by_name('conv2:0')\n",
    "    outputFeatureMap(image_input,conv_layer_2_visual)"
   ]
  },
  {
   "cell_type": "code",
   "execution_count": null,
   "metadata": {
    "collapsed": true,
    "deletable": true,
    "editable": true
   },
   "outputs": [],
   "source": []
  }
 ],
 "metadata": {
  "anaconda-cloud": {},
  "kernelspec": {
   "display_name": "Python 3",
   "language": "python",
   "name": "python3"
  },
  "language_info": {
   "codemirror_mode": {
    "name": "ipython",
    "version": 3
   },
   "file_extension": ".py",
   "mimetype": "text/x-python",
   "name": "python",
   "nbconvert_exporter": "python",
   "pygments_lexer": "ipython3",
   "version": "3.5.2"
  }
 },
 "nbformat": 4,
 "nbformat_minor": 1
}
